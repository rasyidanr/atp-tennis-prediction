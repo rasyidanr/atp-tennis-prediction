{
 "cells": [
  {
   "cell_type": "markdown",
   "id": "3e906e8e",
   "metadata": {},
   "source": [
    "# Tennis Player Rank Prediction based on Historical Performance on Indian Wells Tournament"
   ]
  },
  {
   "cell_type": "markdown",
   "id": "8cb90958",
   "metadata": {},
   "source": [
    "This notebook will explore the task of predicting tennis players rank based on their historical performance and betting data. The scope of the analysis is the Indian Wells tournament with the horizon of six years. The notebook will be organized into several sections, namely data preparation, EDA, dataset splitting, model deployment, model evaluation and end-point deletion."
   ]
  },
  {
   "cell_type": "markdown",
   "id": "e6748544",
   "metadata": {},
   "source": [
    "## Data Preparation"
   ]
  },
  {
   "cell_type": "markdown",
   "id": "675d0ddb",
   "metadata": {},
   "source": [
    "We will begin the data preparation task by following below steps:\n",
    "1. Importing necessary libraries\n",
    "2. Creating S3 bucket (to save the models into AWS sagemaker - scaleable)\n",
    "3. Mapping train and test data in S3 (map the output path of the model on S3)\n",
    "4. Mapping the path of the models in S3"
   ]
  },
  {
   "cell_type": "markdown",
   "id": "331234f8",
   "metadata": {},
   "source": [
    "#### 1. Import Necessary Libraries"
   ]
  },
  {
   "cell_type": "code",
   "execution_count": 1,
   "id": "a073f29d",
   "metadata": {},
   "outputs": [],
   "source": [
    "# Import necessary libraries\n",
    "\n",
    "import sagemaker\n",
    "import boto3 #read the S3 buckets if it's public\n",
    "from botocore.exceptions import ClientError\n",
    "import logging\n",
    "import os\n",
    "import seaborn as sns\n",
    "import matplotlib.pyplot as plt\n",
    "import numpy as np\n",
    "\n",
    "from sagemaker.amazon.amazon_estimator import get_image_uri\n",
    "from sagemaker.amazon.amazon_estimator import get_image_uri\n",
    "\n",
    "from sagemaker.session import s3_input, Session"
   ]
  },
  {
   "cell_type": "markdown",
   "id": "d497864f",
   "metadata": {},
   "source": [
    "#### 2. Create a new S3 bucket"
   ]
  },
  {
   "cell_type": "markdown",
   "id": "4de0ec62",
   "metadata": {},
   "source": [
    "We will now create an S3 bucket directly from the notebook by specifying the bucket name and the region name."
   ]
  },
  {
   "cell_type": "code",
   "execution_count": 2,
   "id": "fc71cee5",
   "metadata": {},
   "outputs": [
    {
     "name": "stdout",
     "output_type": "stream",
     "text": [
      "us-west-2\n"
     ]
    }
   ],
   "source": [
    "# Specify the bucket name to be created\n",
    "bucket_name = 'atp-tennis-prediction'\n",
    "\n",
    "# Use boto3 library to check the region\n",
    "my_region = boto3.session.Session().region_name # set the region of the instance\n",
    "print(my_region)"
   ]
  },
  {
   "cell_type": "code",
   "execution_count": 3,
   "id": "69b3725e",
   "metadata": {},
   "outputs": [],
   "source": [
    "# Create an S3 bucket\n",
    "# Source: https://boto3.amazonaws.com/v1/documentation/api/latest/guide/s3-example-creating-buckets.html\n",
    "\n",
    "def create_bucket(bucket_name, region=None):\n",
    "    \"\"\"Create an S3 bucket in a specified region\n",
    "\n",
    "    If a region is not specified, the bucket is created in the S3 default\n",
    "    region (us-east-1).\n",
    "\n",
    "    :param bucket_name: Bucket to create\n",
    "    :param region: String region to create bucket in, e.g., 'us-west-2'\n",
    "    :return: True if bucket created, else False\n",
    "    \"\"\"\n",
    "\n",
    "    # Create bucket\n",
    "    try:\n",
    "        if region is None:\n",
    "            s3_client = boto3.client('s3')\n",
    "            s3_client.create_bucket(Bucket=bucket_name)\n",
    "        else:\n",
    "            s3_client = boto3.client('s3', region_name=region)\n",
    "            location = {'LocationConstraint': region}\n",
    "            s3_client.create_bucket(Bucket=bucket_name,\n",
    "                                    CreateBucketConfiguration=location)\n",
    "    except ClientError as e:\n",
    "        logging.error(e)\n",
    "        return False\n",
    "    return True"
   ]
  },
  {
   "cell_type": "code",
   "execution_count": 4,
   "id": "b24600ab",
   "metadata": {},
   "outputs": [
    {
     "name": "stderr",
     "output_type": "stream",
     "text": [
      "/home/ec2-user/anaconda3/envs/python3/lib/python3.6/site-packages/boto3/compat.py:88: PythonDeprecationWarning: Boto3 will no longer support Python 3.6 starting May 30, 2022. To continue receiving service updates, bug fixes, and security updates please upgrade to Python 3.7 or later. More information can be found here: https://aws.amazon.com/blogs/developer/python-support-policy-updates-for-aws-sdks-and-tools/\n",
      "  warnings.warn(warning, PythonDeprecationWarning)\n"
     ]
    },
    {
     "data": {
      "text/plain": [
       "True"
      ]
     },
     "execution_count": 4,
     "metadata": {},
     "output_type": "execute_result"
    }
   ],
   "source": [
    "# Call the function to create S3 bucket\n",
    "create_bucket(bucket_name, my_region)"
   ]
  },
  {
   "cell_type": "code",
   "execution_count": 5,
   "id": "6626039a",
   "metadata": {},
   "outputs": [
    {
     "name": "stdout",
     "output_type": "stream",
     "text": [
      "Existing buckets:\n",
      "  atp-tennis-prediction\n"
     ]
    }
   ],
   "source": [
    "# Retrieve the list of existing buckets\n",
    "s3 = boto3.client('s3')\n",
    "response = s3.list_buckets()\n",
    "\n",
    "# Output the bucket names\n",
    "print('Existing buckets:')\n",
    "for bucket in response['Buckets']:\n",
    "    print(f'  {bucket[\"Name\"]}')"
   ]
  },
  {
   "cell_type": "markdown",
   "id": "ab4d2055",
   "metadata": {},
   "source": [
    "#### 3. Mapping the output path"
   ]
  },
  {
   "cell_type": "markdown",
   "id": "eaedfebd",
   "metadata": {},
   "source": [
    "To be able to perform dataset splitting and a training job, we will need to specify the path in which all the data and models will be stored."
   ]
  },
  {
   "cell_type": "code",
   "execution_count": 6,
   "id": "43d6bdf2",
   "metadata": {},
   "outputs": [
    {
     "name": "stdout",
     "output_type": "stream",
     "text": [
      "s3://atp-tennis-prediction/xgboost-as-a-built-in-algo/output\n"
     ]
    }
   ],
   "source": [
    "# Set an output path where the trained model will be saved\n",
    "prefix = 'xgboost-as-a-built-in-algo'\n",
    "output_path = 's3://{}/{}/output'.format(bucket_name, prefix)\n",
    "print(output_path)"
   ]
  },
  {
   "cell_type": "markdown",
   "id": "106ec8ef",
   "metadata": {},
   "source": [
    "#### 4. Web-scrape the Dataset and Save it on S3"
   ]
  },
  {
   "cell_type": "markdown",
   "id": "1ae26c94",
   "metadata": {},
   "source": [
    "As the environment is ready, we can now proceed to extract the data from S3 bucket as well as from the websites."
   ]
  },
  {
   "cell_type": "markdown",
   "id": "69f18d7c",
   "metadata": {},
   "source": [
    "#### Handling Parquet Files"
   ]
  },
  {
   "cell_type": "markdown",
   "id": "d0ee156a",
   "metadata": {},
   "source": [
    "Here we will extract several parquet files as generated by the first ETL pipeline."
   ]
  },
  {
   "cell_type": "code",
   "execution_count": 7,
   "id": "f2343114",
   "metadata": {},
   "outputs": [],
   "source": [
    "# Reading parquet files\n",
    "# Source: https://stackoverflow.com/questions/45043554/how-to-read-a-list-of-parquet-files-from-s3-as-a-pandas-dataframe-using-pyarrow\n",
    "\n",
    "import boto3\n",
    "import io\n",
    "import pandas as pd\n",
    "\n",
    "# Read single parquet file from S3\n",
    "def pd_read_s3_parquet(key, bucket, s3_client=None, **args):\n",
    "    if s3_client is None:\n",
    "        s3_client = boto3.client('s3')\n",
    "    obj = s3_client.get_object(Bucket=bucket, Key=key)\n",
    "    return pd.read_parquet(io.BytesIO(obj['Body'].read()), **args)\n",
    "\n",
    "# Read multiple parquets from a folder on S3 generated by spark\n",
    "def pd_read_s3_multiple_parquets(filepath, bucket, s3=None, \n",
    "                                 s3_client=None, verbose=False, **args):\n",
    "    if not filepath.endswith('/'):\n",
    "        filepath = filepath + '/'  # Add '/' to the end\n",
    "    if s3_client is None:\n",
    "        s3_client = boto3.client('s3')\n",
    "    if s3 is None:\n",
    "        s3 = boto3.resource('s3')\n",
    "    s3_keys = [item.key for item in s3.Bucket(bucket).objects.filter(Prefix=filepath)\n",
    "               if item.key.endswith('.parquet')]\n",
    "    if not s3_keys:\n",
    "        print('No parquet found in', bucket, filepath)\n",
    "    elif verbose:\n",
    "        print('Load parquets:')\n",
    "        for p in s3_keys: \n",
    "            print(p)\n",
    "    dfs = [pd_read_s3_parquet(key, bucket=bucket, s3_client=s3_client, **args) \n",
    "           for key in s3_keys]\n",
    "    return pd.concat(dfs, ignore_index=True)"
   ]
  },
  {
   "cell_type": "markdown",
   "id": "a106a9ea",
   "metadata": {},
   "source": [
    "#### Retrieve files from URL"
   ]
  },
  {
   "cell_type": "markdown",
   "id": "3600414f",
   "metadata": {},
   "source": [
    "As a complementary data, we will also extract the csv outputs from the same website as we have web-scraped in the previous task."
   ]
  },
  {
   "cell_type": "code",
   "execution_count": 9,
   "id": "e428e705",
   "metadata": {
    "scrolled": true
   },
   "outputs": [
    {
     "name": "stdout",
     "output_type": "stream",
     "text": [
      "Success: Data downloaded\n",
      "Success: Data loaded into dataframe.\n"
     ]
    }
   ],
   "source": [
    "import pandas as pd\n",
    "import urllib\n",
    "try:\n",
    "    urllib.request.urlretrieve (\"http://tennis-data.co.uk/{}/indianwells.csv\".format('2022'), \"{}.csv\".format('2022'))\n",
    "    urllib.request.urlretrieve (\"http://tennis-data.co.uk/{}/indianwells.csv\".format('2021'), \"{}.csv\".format('2021'))\n",
    "    urllib.request.urlretrieve (\"http://tennis-data.co.uk/{}/indianwells.csv\".format('2019'), \"{}.csv\".format('2019'))\n",
    "    urllib.request.urlretrieve (\"http://tennis-data.co.uk/{}/indianwells.csv\".format('2018'), \"{}.csv\".format('2018'))\n",
    "    urllib.request.urlretrieve (\"http://tennis-data.co.uk/{}/indianwells.csv\".format('2017'), \"{}.csv\".format('2017'))\n",
    "    urllib.request.urlretrieve (\"http://tennis-data.co.uk/{}/indianwells.csv\".format('2016'), \"{}.csv\".format('2016'))\n",
    "    print('Success: Data downloaded')\n",
    "except Exception as e:\n",
    "    print('Data load error: ',e)\n",
    "\n",
    "try:\n",
    "    df_2022 = pd.read_csv('./2022.csv',index_col=0)\n",
    "    df_2021 = pd.read_csv('./2021.csv',index_col=0)\n",
    "    df_2019 = pd.read_csv('./2019.csv',index_col=0)\n",
    "    df_2018 = pd.read_csv('./2018.csv',index_col=0)\n",
    "    df_2017 = pd.read_csv('./2017.csv',index_col=0)\n",
    "    df_2016 = pd.read_csv('./2016.csv',index_col=0)\n",
    "    print('Success: Data loaded into dataframe.')\n",
    "except Exception as e:\n",
    "    print('Data load error: ',e)"
   ]
  },
  {
   "cell_type": "markdown",
   "id": "0a62249b",
   "metadata": {},
   "source": [
    "Now, as all the data is ready, we can perform dataframe operations to clean and prepare the data structure."
   ]
  },
  {
   "cell_type": "code",
   "execution_count": 44,
   "id": "c5936e6a",
   "metadata": {},
   "outputs": [
    {
     "data": {
      "text/html": [
       "<div>\n",
       "<style scoped>\n",
       "    .dataframe tbody tr th:only-of-type {\n",
       "        vertical-align: middle;\n",
       "    }\n",
       "\n",
       "    .dataframe tbody tr th {\n",
       "        vertical-align: top;\n",
       "    }\n",
       "\n",
       "    .dataframe thead th {\n",
       "        text-align: right;\n",
       "    }\n",
       "</style>\n",
       "<table border=\"1\" class=\"dataframe\">\n",
       "  <thead>\n",
       "    <tr style=\"text-align: right;\">\n",
       "      <th></th>\n",
       "      <th>ATP</th>\n",
       "      <th>Location</th>\n",
       "      <th>Tournament</th>\n",
       "      <th>Date</th>\n",
       "      <th>Series</th>\n",
       "      <th>Court</th>\n",
       "      <th>Surface</th>\n",
       "      <th>Round</th>\n",
       "      <th>Best of</th>\n",
       "      <th>Winner</th>\n",
       "      <th>...</th>\n",
       "      <th>PSW</th>\n",
       "      <th>PSL</th>\n",
       "      <th>MaxW</th>\n",
       "      <th>MaxL</th>\n",
       "      <th>AvgW</th>\n",
       "      <th>AvgL</th>\n",
       "      <th>EXW</th>\n",
       "      <th>EXL</th>\n",
       "      <th>LBW</th>\n",
       "      <th>LBL</th>\n",
       "    </tr>\n",
       "  </thead>\n",
       "  <tbody>\n",
       "    <tr>\n",
       "      <th>0</th>\n",
       "      <td>19</td>\n",
       "      <td>Indian Wells</td>\n",
       "      <td>BNP Paribas Open</td>\n",
       "      <td>10/03/2022</td>\n",
       "      <td>Masters 1000</td>\n",
       "      <td>Outdoor</td>\n",
       "      <td>Hard</td>\n",
       "      <td>1st Round</td>\n",
       "      <td>3</td>\n",
       "      <td>Bonzi B.</td>\n",
       "      <td>...</td>\n",
       "      <td>2.02</td>\n",
       "      <td>1.89</td>\n",
       "      <td>2.12</td>\n",
       "      <td>1.90</td>\n",
       "      <td>2.03</td>\n",
       "      <td>1.79</td>\n",
       "      <td>NaN</td>\n",
       "      <td>NaN</td>\n",
       "      <td>NaN</td>\n",
       "      <td>NaN</td>\n",
       "    </tr>\n",
       "    <tr>\n",
       "      <th>1</th>\n",
       "      <td>19</td>\n",
       "      <td>Indian Wells</td>\n",
       "      <td>BNP Paribas Open</td>\n",
       "      <td>10/03/2022</td>\n",
       "      <td>Masters 1000</td>\n",
       "      <td>Outdoor</td>\n",
       "      <td>Hard</td>\n",
       "      <td>1st Round</td>\n",
       "      <td>3</td>\n",
       "      <td>Fognini F.</td>\n",
       "      <td>...</td>\n",
       "      <td>1.54</td>\n",
       "      <td>2.68</td>\n",
       "      <td>1.54</td>\n",
       "      <td>3.02</td>\n",
       "      <td>1.45</td>\n",
       "      <td>2.76</td>\n",
       "      <td>NaN</td>\n",
       "      <td>NaN</td>\n",
       "      <td>NaN</td>\n",
       "      <td>NaN</td>\n",
       "    </tr>\n",
       "  </tbody>\n",
       "</table>\n",
       "<p>2 rows × 40 columns</p>\n",
       "</div>"
      ],
      "text/plain": [
       "   ATP      Location        Tournament        Date        Series    Court  \\\n",
       "0   19  Indian Wells  BNP Paribas Open  10/03/2022  Masters 1000  Outdoor   \n",
       "1   19  Indian Wells  BNP Paribas Open  10/03/2022  Masters 1000  Outdoor   \n",
       "\n",
       "  Surface      Round  Best of      Winner  ...   PSW   PSL  MaxW  MaxL  AvgW  \\\n",
       "0    Hard  1st Round        3    Bonzi B.  ...  2.02  1.89  2.12  1.90  2.03   \n",
       "1    Hard  1st Round        3  Fognini F.  ...  1.54  2.68  1.54  3.02  1.45   \n",
       "\n",
       "   AvgL  EXW  EXL  LBW  LBL  \n",
       "0  1.79  NaN  NaN  NaN  NaN  \n",
       "1  2.76  NaN  NaN  NaN  NaN  \n",
       "\n",
       "[2 rows x 40 columns]"
      ]
     },
     "execution_count": 44,
     "metadata": {},
     "output_type": "execute_result"
    }
   ],
   "source": [
    "results = pd.concat([df_2022,df_2021,df_2019,df_2018,df_2017,df_2016],axis=0).reset_index()\n",
    "results.head(2)"
   ]
  },
  {
   "cell_type": "markdown",
   "id": "28089327",
   "metadata": {},
   "source": [
    "#### Summary Statistics and Correlation"
   ]
  },
  {
   "cell_type": "markdown",
   "id": "a3cfeca9",
   "metadata": {},
   "source": [
    "First we would like to see the summary statistics and correlation table of the attributes in the dataset."
   ]
  },
  {
   "cell_type": "code",
   "execution_count": 45,
   "id": "e0f7cbcd",
   "metadata": {
    "scrolled": true
   },
   "outputs": [
    {
     "name": "stdout",
     "output_type": "stream",
     "text": [
      "<class 'pandas.core.frame.DataFrame'>\n",
      "RangeIndex: 570 entries, 0 to 569\n",
      "Data columns (total 40 columns):\n",
      " #   Column      Non-Null Count  Dtype  \n",
      "---  ------      --------------  -----  \n",
      " 0   ATP         570 non-null    int64  \n",
      " 1   Location    570 non-null    object \n",
      " 2   Tournament  570 non-null    object \n",
      " 3   Date        570 non-null    object \n",
      " 4   Series      570 non-null    object \n",
      " 5   Court       570 non-null    object \n",
      " 6   Surface     570 non-null    object \n",
      " 7   Round       570 non-null    object \n",
      " 8   Best of     570 non-null    int64  \n",
      " 9   Winner      570 non-null    object \n",
      " 10  Loser       570 non-null    object \n",
      " 11  WRank       570 non-null    int64  \n",
      " 12  LRank       570 non-null    int64  \n",
      " 13  WPts        570 non-null    int64  \n",
      " 14  LPts        570 non-null    int64  \n",
      " 15  W1          561 non-null    float64\n",
      " 16  L1          561 non-null    float64\n",
      " 17  W2          558 non-null    float64\n",
      " 18  L2          558 non-null    float64\n",
      " 19  W3          193 non-null    float64\n",
      " 20  L3          193 non-null    float64\n",
      " 21  W4          0 non-null      float64\n",
      " 22  L4          0 non-null      float64\n",
      " 23  W5          0 non-null      float64\n",
      " 24  L5          0 non-null      float64\n",
      " 25  Wsets       561 non-null    float64\n",
      " 26  Lsets       561 non-null    float64\n",
      " 27  Comment     570 non-null    object \n",
      " 28  B365W       569 non-null    float64\n",
      " 29  B365L       569 non-null    float64\n",
      " 30  PSW         568 non-null    float64\n",
      " 31  PSL         568 non-null    float64\n",
      " 32  MaxW        570 non-null    float64\n",
      " 33  MaxL        570 non-null    float64\n",
      " 34  AvgW        570 non-null    float64\n",
      " 35  AvgL        570 non-null    float64\n",
      " 36  EXW         282 non-null    float64\n",
      " 37  EXL         283 non-null    float64\n",
      " 38  LBW         283 non-null    float64\n",
      " 39  LBL         283 non-null    float64\n",
      "dtypes: float64(24), int64(6), object(10)\n",
      "memory usage: 178.2+ KB\n"
     ]
    }
   ],
   "source": [
    "# Overview of the data type\n",
    "results.info()"
   ]
  },
  {
   "cell_type": "markdown",
   "id": "26df067f",
   "metadata": {},
   "source": [
    "As we can see the dataset consists of different data types which we need to adjust before model building. In addition, several columns do not have any data at all, which means we can ignore the column altogether.\n",
    "\n",
    "Below table provides the summary statistics of numerical variable in the dataset."
   ]
  },
  {
   "cell_type": "code",
   "execution_count": 46,
   "id": "b019fdd4",
   "metadata": {
    "scrolled": true
   },
   "outputs": [
    {
     "data": {
      "text/html": [
       "<div>\n",
       "<style scoped>\n",
       "    .dataframe tbody tr th:only-of-type {\n",
       "        vertical-align: middle;\n",
       "    }\n",
       "\n",
       "    .dataframe tbody tr th {\n",
       "        vertical-align: top;\n",
       "    }\n",
       "\n",
       "    .dataframe thead th {\n",
       "        text-align: right;\n",
       "    }\n",
       "</style>\n",
       "<table border=\"1\" class=\"dataframe\">\n",
       "  <thead>\n",
       "    <tr style=\"text-align: right;\">\n",
       "      <th></th>\n",
       "      <th>ATP</th>\n",
       "      <th>Best of</th>\n",
       "      <th>WRank</th>\n",
       "      <th>LRank</th>\n",
       "      <th>WPts</th>\n",
       "      <th>LPts</th>\n",
       "      <th>W1</th>\n",
       "      <th>L1</th>\n",
       "      <th>W2</th>\n",
       "      <th>L2</th>\n",
       "      <th>...</th>\n",
       "      <th>PSW</th>\n",
       "      <th>PSL</th>\n",
       "      <th>MaxW</th>\n",
       "      <th>MaxL</th>\n",
       "      <th>AvgW</th>\n",
       "      <th>AvgL</th>\n",
       "      <th>EXW</th>\n",
       "      <th>EXL</th>\n",
       "      <th>LBW</th>\n",
       "      <th>LBL</th>\n",
       "    </tr>\n",
       "  </thead>\n",
       "  <tbody>\n",
       "    <tr>\n",
       "      <th>count</th>\n",
       "      <td>570.000000</td>\n",
       "      <td>570.0</td>\n",
       "      <td>570.000000</td>\n",
       "      <td>570.000000</td>\n",
       "      <td>570.000000</td>\n",
       "      <td>570.000000</td>\n",
       "      <td>561.000000</td>\n",
       "      <td>561.000000</td>\n",
       "      <td>558.000000</td>\n",
       "      <td>558.000000</td>\n",
       "      <td>...</td>\n",
       "      <td>568.000000</td>\n",
       "      <td>568.000000</td>\n",
       "      <td>570.000000</td>\n",
       "      <td>570.000000</td>\n",
       "      <td>570.000000</td>\n",
       "      <td>570.000000</td>\n",
       "      <td>282.000000</td>\n",
       "      <td>283.000000</td>\n",
       "      <td>283.000000</td>\n",
       "      <td>283.000000</td>\n",
       "    </tr>\n",
       "    <tr>\n",
       "      <th>mean</th>\n",
       "      <td>24.833333</td>\n",
       "      <td>3.0</td>\n",
       "      <td>48.868421</td>\n",
       "      <td>69.715789</td>\n",
       "      <td>2153.038596</td>\n",
       "      <td>1401.628070</td>\n",
       "      <td>5.869875</td>\n",
       "      <td>4.065954</td>\n",
       "      <td>5.747312</td>\n",
       "      <td>3.969534</td>\n",
       "      <td>...</td>\n",
       "      <td>2.013979</td>\n",
       "      <td>3.366796</td>\n",
       "      <td>2.067632</td>\n",
       "      <td>3.526895</td>\n",
       "      <td>1.923368</td>\n",
       "      <td>3.081228</td>\n",
       "      <td>1.851312</td>\n",
       "      <td>2.910424</td>\n",
       "      <td>1.933604</td>\n",
       "      <td>3.201095</td>\n",
       "    </tr>\n",
       "    <tr>\n",
       "      <th>std</th>\n",
       "      <td>13.055187</td>\n",
       "      <td>0.0</td>\n",
       "      <td>46.065689</td>\n",
       "      <td>65.904041</td>\n",
       "      <td>2440.085677</td>\n",
       "      <td>1521.389348</td>\n",
       "      <td>1.199331</td>\n",
       "      <td>1.801071</td>\n",
       "      <td>1.280548</td>\n",
       "      <td>1.815791</td>\n",
       "      <td>...</td>\n",
       "      <td>1.455699</td>\n",
       "      <td>2.888075</td>\n",
       "      <td>1.492352</td>\n",
       "      <td>3.308058</td>\n",
       "      <td>1.165090</td>\n",
       "      <td>2.219113</td>\n",
       "      <td>1.034361</td>\n",
       "      <td>1.824062</td>\n",
       "      <td>1.335993</td>\n",
       "      <td>2.599607</td>\n",
       "    </tr>\n",
       "    <tr>\n",
       "      <th>min</th>\n",
       "      <td>19.000000</td>\n",
       "      <td>3.0</td>\n",
       "      <td>1.000000</td>\n",
       "      <td>1.000000</td>\n",
       "      <td>100.000000</td>\n",
       "      <td>55.000000</td>\n",
       "      <td>0.000000</td>\n",
       "      <td>0.000000</td>\n",
       "      <td>0.000000</td>\n",
       "      <td>0.000000</td>\n",
       "      <td>...</td>\n",
       "      <td>1.010000</td>\n",
       "      <td>1.030000</td>\n",
       "      <td>1.020000</td>\n",
       "      <td>1.040000</td>\n",
       "      <td>1.010000</td>\n",
       "      <td>1.020000</td>\n",
       "      <td>1.010000</td>\n",
       "      <td>1.010000</td>\n",
       "      <td>1.010000</td>\n",
       "      <td>1.020000</td>\n",
       "    </tr>\n",
       "    <tr>\n",
       "      <th>25%</th>\n",
       "      <td>19.000000</td>\n",
       "      <td>3.0</td>\n",
       "      <td>14.000000</td>\n",
       "      <td>29.000000</td>\n",
       "      <td>798.500000</td>\n",
       "      <td>663.000000</td>\n",
       "      <td>6.000000</td>\n",
       "      <td>3.000000</td>\n",
       "      <td>6.000000</td>\n",
       "      <td>3.000000</td>\n",
       "      <td>...</td>\n",
       "      <td>1.300000</td>\n",
       "      <td>1.720000</td>\n",
       "      <td>1.312500</td>\n",
       "      <td>1.752500</td>\n",
       "      <td>1.270000</td>\n",
       "      <td>1.670000</td>\n",
       "      <td>1.250000</td>\n",
       "      <td>1.610000</td>\n",
       "      <td>1.285000</td>\n",
       "      <td>1.670000</td>\n",
       "    </tr>\n",
       "    <tr>\n",
       "      <th>50%</th>\n",
       "      <td>19.000000</td>\n",
       "      <td>3.0</td>\n",
       "      <td>37.000000</td>\n",
       "      <td>58.000000</td>\n",
       "      <td>1279.500000</td>\n",
       "      <td>920.500000</td>\n",
       "      <td>6.000000</td>\n",
       "      <td>4.000000</td>\n",
       "      <td>6.000000</td>\n",
       "      <td>4.000000</td>\n",
       "      <td>...</td>\n",
       "      <td>1.610000</td>\n",
       "      <td>2.495000</td>\n",
       "      <td>1.650000</td>\n",
       "      <td>2.555000</td>\n",
       "      <td>1.585000</td>\n",
       "      <td>2.355000</td>\n",
       "      <td>1.490000</td>\n",
       "      <td>2.400000</td>\n",
       "      <td>1.530000</td>\n",
       "      <td>2.500000</td>\n",
       "    </tr>\n",
       "    <tr>\n",
       "      <th>75%</th>\n",
       "      <td>19.000000</td>\n",
       "      <td>3.0</td>\n",
       "      <td>69.000000</td>\n",
       "      <td>88.000000</td>\n",
       "      <td>2467.500000</td>\n",
       "      <td>1477.250000</td>\n",
       "      <td>6.000000</td>\n",
       "      <td>6.000000</td>\n",
       "      <td>6.000000</td>\n",
       "      <td>6.000000</td>\n",
       "      <td>...</td>\n",
       "      <td>2.260000</td>\n",
       "      <td>3.975000</td>\n",
       "      <td>2.330000</td>\n",
       "      <td>4.087500</td>\n",
       "      <td>2.170000</td>\n",
       "      <td>3.715000</td>\n",
       "      <td>2.187500</td>\n",
       "      <td>3.500000</td>\n",
       "      <td>2.200000</td>\n",
       "      <td>3.750000</td>\n",
       "    </tr>\n",
       "    <tr>\n",
       "      <th>max</th>\n",
       "      <td>54.000000</td>\n",
       "      <td>3.0</td>\n",
       "      <td>420.000000</td>\n",
       "      <td>581.000000</td>\n",
       "      <td>16540.000000</td>\n",
       "      <td>12040.000000</td>\n",
       "      <td>7.000000</td>\n",
       "      <td>7.000000</td>\n",
       "      <td>7.000000</td>\n",
       "      <td>7.000000</td>\n",
       "      <td>...</td>\n",
       "      <td>21.330000</td>\n",
       "      <td>29.160000</td>\n",
       "      <td>21.330000</td>\n",
       "      <td>41.500000</td>\n",
       "      <td>14.980000</td>\n",
       "      <td>19.450000</td>\n",
       "      <td>10.500000</td>\n",
       "      <td>12.000000</td>\n",
       "      <td>15.000000</td>\n",
       "      <td>26.000000</td>\n",
       "    </tr>\n",
       "  </tbody>\n",
       "</table>\n",
       "<p>8 rows × 30 columns</p>\n",
       "</div>"
      ],
      "text/plain": [
       "              ATP  Best of       WRank       LRank          WPts  \\\n",
       "count  570.000000    570.0  570.000000  570.000000    570.000000   \n",
       "mean    24.833333      3.0   48.868421   69.715789   2153.038596   \n",
       "std     13.055187      0.0   46.065689   65.904041   2440.085677   \n",
       "min     19.000000      3.0    1.000000    1.000000    100.000000   \n",
       "25%     19.000000      3.0   14.000000   29.000000    798.500000   \n",
       "50%     19.000000      3.0   37.000000   58.000000   1279.500000   \n",
       "75%     19.000000      3.0   69.000000   88.000000   2467.500000   \n",
       "max     54.000000      3.0  420.000000  581.000000  16540.000000   \n",
       "\n",
       "               LPts          W1          L1          W2          L2  ...  \\\n",
       "count    570.000000  561.000000  561.000000  558.000000  558.000000  ...   \n",
       "mean    1401.628070    5.869875    4.065954    5.747312    3.969534  ...   \n",
       "std     1521.389348    1.199331    1.801071    1.280548    1.815791  ...   \n",
       "min       55.000000    0.000000    0.000000    0.000000    0.000000  ...   \n",
       "25%      663.000000    6.000000    3.000000    6.000000    3.000000  ...   \n",
       "50%      920.500000    6.000000    4.000000    6.000000    4.000000  ...   \n",
       "75%     1477.250000    6.000000    6.000000    6.000000    6.000000  ...   \n",
       "max    12040.000000    7.000000    7.000000    7.000000    7.000000  ...   \n",
       "\n",
       "              PSW         PSL        MaxW        MaxL        AvgW        AvgL  \\\n",
       "count  568.000000  568.000000  570.000000  570.000000  570.000000  570.000000   \n",
       "mean     2.013979    3.366796    2.067632    3.526895    1.923368    3.081228   \n",
       "std      1.455699    2.888075    1.492352    3.308058    1.165090    2.219113   \n",
       "min      1.010000    1.030000    1.020000    1.040000    1.010000    1.020000   \n",
       "25%      1.300000    1.720000    1.312500    1.752500    1.270000    1.670000   \n",
       "50%      1.610000    2.495000    1.650000    2.555000    1.585000    2.355000   \n",
       "75%      2.260000    3.975000    2.330000    4.087500    2.170000    3.715000   \n",
       "max     21.330000   29.160000   21.330000   41.500000   14.980000   19.450000   \n",
       "\n",
       "              EXW         EXL         LBW         LBL  \n",
       "count  282.000000  283.000000  283.000000  283.000000  \n",
       "mean     1.851312    2.910424    1.933604    3.201095  \n",
       "std      1.034361    1.824062    1.335993    2.599607  \n",
       "min      1.010000    1.010000    1.010000    1.020000  \n",
       "25%      1.250000    1.610000    1.285000    1.670000  \n",
       "50%      1.490000    2.400000    1.530000    2.500000  \n",
       "75%      2.187500    3.500000    2.200000    3.750000  \n",
       "max     10.500000   12.000000   15.000000   26.000000  \n",
       "\n",
       "[8 rows x 30 columns]"
      ]
     },
     "execution_count": 46,
     "metadata": {},
     "output_type": "execute_result"
    }
   ],
   "source": [
    "# Summary statistics\n",
    "results.describe()"
   ]
  },
  {
   "cell_type": "markdown",
   "id": "a59136df",
   "metadata": {},
   "source": [
    "To understand the relationship between attributes in the dataset, we will plot all variables into a correlation matrix. Our target variable is \"WRank\", short for World Rank, which indicates the ranking of a tennis player worldwide. From the correlation table we can see that \"WRank\" is only mildly correlated with several betting attributes, namely B365W, PSW and EXW."
   ]
  },
  {
   "cell_type": "code",
   "execution_count": 47,
   "id": "102d4d75",
   "metadata": {},
   "outputs": [
    {
     "data": {
      "image/png": "[encoded data removed]",
      "text/plain": [
       "<Figure size 720x720 with 2 Axes>"
      ]
     },
     "metadata": {},
     "output_type": "display_data"
    }
   ],
   "source": [
    "# Correlation table\n",
    "# Check for multicollinearity\n",
    "\n",
    "sns.set(style='white') #set the style\n",
    "corr = round(results.corr(),1) #define the correlation \n",
    "mask = np.zeros_like(corr, dtype=np.bool)\n",
    "mask[np.triu_indices_from(mask)] = True\n",
    "f, ax = plt.subplots(figsize=(10,10)) #figure size \n",
    "cmap = sns.diverging_palette(30,180, as_cmap=True) \n",
    "ax = sns.heatmap(corr, mask =mask, cmap=\"Greens\", vmax= 1, annot = False, \n",
    "annot_kws= {'size':12}, square=True, xticklabels=True, yticklabels=True, \n",
    "linewidths=.6, linecolor='w', cbar_kws={'shrink': 0.5}, ax=ax) #input the ax varibales \n",
    "ax.set_title('Correlation Heatmap for the Numeric Variables', fontsize=15); #set the figure title"
   ]
  },
  {
   "cell_type": "markdown",
   "id": "cc20016e",
   "metadata": {},
   "source": [
    "#### Outlier Detection"
   ]
  },
  {
   "cell_type": "markdown",
   "id": "6cbcdcb9",
   "metadata": {},
   "source": [
    "To understand the distribution of three most correlated features, we will plot them into three separate histograms to see if there is any outlier present. The result suggests that all betting data are negatively skewed with a long tail towards high scores, which is expected because there should be only a small number of players that acquire a very high bets on tournament average."
   ]
  },
  {
   "cell_type": "code",
   "execution_count": 113,
   "id": "0fe543cc",
   "metadata": {},
   "outputs": [
    {
     "data": {
      "image/png": "[encoded data removed]",
      "text/plain": [
       "<Figure size 1440x720 with 6 Axes>"
      ]
     },
     "metadata": {},
     "output_type": "display_data"
    }
   ],
   "source": [
    "# Create plotting matrix\n",
    "fig = plt.figure(figsize=(20,10))\n",
    "ax1 = plt.subplot(231)\n",
    "ax2 = plt.subplot(232)\n",
    "ax3 = plt.subplot(233)\n",
    "ax4 = plt.subplot(234)\n",
    "ax5 = plt.subplot(235)\n",
    "ax6 = plt.subplot(236)\n",
    "\n",
    "# Figure xx. Histogram and Boxplot of upc\n",
    "hist = sns.histplot(data=results, x=\"B365W\", kde=True, ax=ax1,color=(\"darkblue\"));\n",
    "hist.set(xlabel='B365W', title=\"Histogram of Bet365 Winning Odds\");\n",
    "box = sns.boxplot(x=\"B365W\", data = results, ax=ax4,color=(\"darkblue\"));\n",
    "box.set(xlabel='B365W', title=\"Boxplot of Bet365 Winning Odds\");\n",
    "\n",
    "# Figure xx. Histogram and Boxplot of birth_year\n",
    "hist = sns.histplot(data=results, x=\"PSW\", kde=True, ax=ax2,color=(\"darkblue\"));\n",
    "hist.set(xlabel='PSW', title=\"Histogram of Pinnacle Sports Winning Odds\");\n",
    "box = sns.boxplot(x=\"PSW\", data = results, ax=ax5,color=(\"darkblue\"));\n",
    "box.set(xlabel='PSW', title=\"Boxplot of Pinnacle Sports Winning Odds\");\n",
    "\n",
    "# Figure xx. Histogram and Boxplot of stream_length\n",
    "hist = sns.histplot(data=results, x=\"EXW\", kde=True, ax=ax3,color=(\"darkblue\"));\n",
    "hist.set(xlabel='EXW', title=\"Histogram of Expekt Winning Odds\");\n",
    "box = sns.boxplot(x=\"EXW\", data = results, ax=ax6,color=(\"darkblue\"));\n",
    "box.set(xlabel='EXW', title=\"Boxplot of Expekt Winning Odds\");\n",
    "\n",
    "plt.show();"
   ]
  },
  {
   "cell_type": "markdown",
   "id": "24c3c80f",
   "metadata": {},
   "source": [
    "## Exploratory Data Analysis"
   ]
  },
  {
   "cell_type": "markdown",
   "id": "288f393f",
   "metadata": {},
   "source": [
    "As the task is to predict the likelihood of a player to be categorized as top 10 world player based on their performance and betting data, we would like to see what is the current distribution of top 10 tennis players in the world."
   ]
  },
  {
   "cell_type": "markdown",
   "id": "da805f28",
   "metadata": {},
   "source": [
    "#### Visualising Top Tennis Players"
   ]
  },
  {
   "cell_type": "code",
   "execution_count": 48,
   "id": "5d29a5d0",
   "metadata": {
    "scrolled": true
   },
   "outputs": [
    {
     "name": "stderr",
     "output_type": "stream",
     "text": [
      "/home/ec2-user/anaconda3/envs/python3/lib/python3.6/site-packages/seaborn/_decorators.py:43: FutureWarning: Pass the following variables as keyword args: x, y. From version 0.12, the only valid positional argument will be `data`, and passing other arguments without an explicit keyword will result in an error or misinterpretation.\n",
      "  FutureWarning\n",
      "/home/ec2-user/anaconda3/envs/python3/lib/python3.6/site-packages/seaborn/_decorators.py:43: FutureWarning: Pass the following variables as keyword args: x, y. From version 0.12, the only valid positional argument will be `data`, and passing other arguments without an explicit keyword will result in an error or misinterpretation.\n",
      "  FutureWarning\n"
     ]
    },
    {
     "data": {
      "image/png": "[encoded data removed]",
      "text/plain": [
       "<Figure size 2520x1800 with 2 Axes>"
      ]
     },
     "metadata": {},
     "output_type": "display_data"
    }
   ],
   "source": [
    "# Create plots\n",
    "fig = plt.figure(figsize=(35,25))\n",
    "fig.tight_layout()\n",
    "ax1 = plt.subplot(221)\n",
    "plt.grid(axis = 'x',linestyle='--')\n",
    "ax2 = plt.subplot(222)\n",
    "plt.grid(axis = 'x',linestyle='--')\n",
    "\n",
    "# Figure 2. Top 10 Tennis Players in the Indian Wells Tournament\n",
    "top_players = results.groupby(\"Winner\")[\"WRank\"].mean().sort_values(ascending=True).head(10)\n",
    "sns.barplot(top_players,top_players.index,color=(\"darkblue\"),ax=ax1)\n",
    "ax1.set_title('Top 10 Tennis Players in the Indian Wells Tournament', fontsize = 15);\n",
    "ax1.set_xlabel('World Rank');\n",
    "ax1.set_ylabel('');\n",
    "\n",
    "# Figure 3. Top 10 Playlists by Total World Accummulated Points\n",
    "top_players_points = results.groupby(\"Winner\")[\"WPts\"].mean().sort_values(ascending=False).head(10)\n",
    "sns.barplot(top_players_points,top_players_points.index,color=(\"darkblue\"),ax=ax2)\n",
    "ax2.set_title('Top 10 Playlists by Total World Accummulated Points', fontsize = 15);\n",
    "ax2.set_xlabel('World Accummulated Points');\n",
    "ax2.set_ylabel('');"
   ]
  },
  {
   "cell_type": "markdown",
   "id": "68378e99",
   "metadata": {},
   "source": [
    "In this project, we will aim to predict whether or not a player is included in the Top 10 World's best tennis player or not, hence we would need to setup a binary dependent variable. If a player is included in the top 10, we will tag it as 1, and 0 otherwise."
   ]
  },
  {
   "cell_type": "code",
   "execution_count": 49,
   "id": "431a5434",
   "metadata": {},
   "outputs": [],
   "source": [
    "# Add a new column indicating dependent variable\n",
    "results['top_10'] = np.where(results['WRank']>=10, 1, 0)"
   ]
  },
  {
   "cell_type": "markdown",
   "id": "0437e09c",
   "metadata": {},
   "source": [
    "## Dataset Splitting"
   ]
  },
  {
   "cell_type": "markdown",
   "id": "c6359476",
   "metadata": {},
   "source": [
    "As the data still contains categorical values, we will temporarily remove this for further analysis."
   ]
  },
  {
   "cell_type": "code",
   "execution_count": 50,
   "id": "a0ab3558",
   "metadata": {},
   "outputs": [],
   "source": [
    "# Drop values with categorical variable\n",
    "results = results.drop(['Location','Tournament','Date','Series','Court','Surface','Round','Winner','Loser','Comment'],axis=1)"
   ]
  },
  {
   "cell_type": "code",
   "execution_count": 51,
   "id": "dcd63dfd",
   "metadata": {},
   "outputs": [],
   "source": [
    "# Replacing null values with very small value fraction\n",
    "results = results.fillna(0.001)"
   ]
  },
  {
   "cell_type": "markdown",
   "id": "4e488e12",
   "metadata": {},
   "source": [
    "#### Split the Dataset"
   ]
  },
  {
   "cell_type": "markdown",
   "id": "1dc5ae49",
   "metadata": {},
   "source": [
    "To begin the machine learning model building, we will divide the dataset into train and test data with a proportion of 70:30."
   ]
  },
  {
   "cell_type": "code",
   "execution_count": 52,
   "id": "64e4b76a",
   "metadata": {},
   "outputs": [
    {
     "name": "stdout",
     "output_type": "stream",
     "text": [
      "(399, 31) (171, 31)\n"
     ]
    }
   ],
   "source": [
    "# Train Test split\n",
    "\n",
    "import numpy as np\n",
    "train_data, test_data = np.split(results.sample(frac=1, random_state=1729), [int(0.7 * len(results))])\n",
    "print(train_data.shape, test_data.shape)"
   ]
  },
  {
   "cell_type": "markdown",
   "id": "5a0b2cc2",
   "metadata": {},
   "source": [
    "Next, to build the machine learning model, we will split the dataset into two, namely the train and test set with a proportion of 70:30. In this case we disregard the need of using a validation set since the dataset size is too small to be split into three. Each of the train and test set will be saved into a csv format in the pre-defined S3 bucket as created before."
   ]
  },
  {
   "cell_type": "code",
   "execution_count": 53,
   "id": "60ea09e6",
   "metadata": {},
   "outputs": [],
   "source": [
    "### Saving Train And Test Into Buckets\n",
    "## We start with Train Data\n",
    "import os\n",
    "pd.concat([train_data['top_10'], train_data.drop(['top_10'], \n",
    "                                                axis=1)], \n",
    "                                                axis=1).to_csv('train.csv', index=False, header=False)\n",
    "boto3.Session().resource('s3').Bucket(bucket_name).Object(os.path.join(prefix, 'train/train.csv')).upload_file('train.csv')\n",
    "s3_input_train = sagemaker.inputs.TrainingInput(s3_data='s3://{}/{}/train'.format(bucket_name, prefix), content_type='csv')"
   ]
  },
  {
   "cell_type": "code",
   "execution_count": 2,
   "id": "e07231ee",
   "metadata": {},
   "outputs": [],
   "source": [
    "# Test Data Into Buckets\n",
    "pd.concat([test_data['top_10'], test_data.drop(['top_10'], axis=1)], axis=1).to_csv('test.csv', index=False, header=False)\n",
    "boto3.Session().resource('s3').Bucket(bucket_name).Object(os.path.join(prefix, 'test/test.csv')).upload_file('test.csv')\n",
    "n=60.27\n",
    "m=73.14\n",
    "s3_input_test = sagemaker.inputs.TrainingInput(s3_data='s3://{}/{}/test'.format(bucket_name, prefix), content_type='csv')"
   ]
  },
  {
   "cell_type": "code",
   "execution_count": 55,
   "id": "1d17d441",
   "metadata": {},
   "outputs": [],
   "source": [
    "# Save the dependent variable\n",
    "y_train = train_data['top_10']\n",
    "y_test = test_data['top_10']"
   ]
  },
  {
   "cell_type": "markdown",
   "id": "fbcdbcff",
   "metadata": {},
   "source": [
    "## Model Building & Training"
   ]
  },
  {
   "cell_type": "markdown",
   "id": "000fdab2",
   "metadata": {},
   "source": [
    "With the objective to predict the likelihood of a player to be categorized as top 10 world rank tennis player based on their past performances and betting data, we will be using an built-in algorithm in Amazon Sagemaker, namely the built-in XGBoost algorithm. As the task is a binary logistic regression, we will be using a XGBoost classification algorithm, to be exact."
   ]
  },
  {
   "cell_type": "code",
   "execution_count": 56,
   "id": "4f40926e",
   "metadata": {
    "scrolled": false
   },
   "outputs": [
    {
     "name": "stderr",
     "output_type": "stream",
     "text": [
      "The method get_image_uri has been renamed in sagemaker>=2.\n",
      "See: https://sagemaker.readthedocs.io/en/stable/v2.html for details.\n"
     ]
    }
   ],
   "source": [
    "# This line automatically looks for the XGBoost image URI and builds an XGBoost container.\n",
    "# Specify the version depending on your preference.\n",
    "\n",
    "container = get_image_uri(boto3.Session().region_name,\n",
    "                         'xgboost',\n",
    "                         repo_version='1.0-1')\n",
    "\n",
    "#container = sagemaker.image_uris.retrieve(my_region,'xgboost',version='1.0-1')"
   ]
  },
  {
   "cell_type": "markdown",
   "id": "e8527666",
   "metadata": {},
   "source": [
    "The next step is to do hyperparameter tuning, by setting a binary logistic objective and several specific parameters unique to this model."
   ]
  },
  {
   "cell_type": "code",
   "execution_count": 57,
   "id": "a41a3bd9",
   "metadata": {},
   "outputs": [],
   "source": [
    "# Initialize hyperparameters\n",
    "# Hyperparameter tuning should be donee separately\n",
    "hyperparameters = {\n",
    "        \"max_depth\":\"4\",\n",
    "        \"eta\":\"0.2\",\n",
    "        \"gamma\":\"3\",\n",
    "        \"min_child_weight\":\"5\",\n",
    "        \"subsample\":\"0.7\",\n",
    "        \"objective\":\"binary:logistic\", # classification using xgboost\n",
    "        \"num_round\":50\n",
    "        }"
   ]
  },
  {
   "cell_type": "markdown",
   "id": "8ce71fab",
   "metadata": {},
   "source": [
    "To call the XGBoost image, we will need to use the sagemaker estimator library, by specifying the parameters, such as the IAM role, train instance count, train instance type, train spot instances and the train run limits. "
   ]
  },
  {
   "cell_type": "code",
   "execution_count": 58,
   "id": "70b7b471",
   "metadata": {},
   "outputs": [
    {
     "name": "stderr",
     "output_type": "stream",
     "text": [
      "train_instance_count has been renamed in sagemaker>=2.\n",
      "See: https://sagemaker.readthedocs.io/en/stable/v2.html for details.\n",
      "train_instance_type has been renamed in sagemaker>=2.\n",
      "See: https://sagemaker.readthedocs.io/en/stable/v2.html for details.\n",
      "train_max_run has been renamed in sagemaker>=2.\n",
      "See: https://sagemaker.readthedocs.io/en/stable/v2.html for details.\n",
      "train_use_spot_instances has been renamed in sagemaker>=2.\n",
      "See: https://sagemaker.readthedocs.io/en/stable/v2.html for details.\n",
      "train_max_wait has been renamed in sagemaker>=2.\n",
      "See: https://sagemaker.readthedocs.io/en/stable/v2.html for details.\n",
      "train_volume_size has been renamed in sagemaker>=2.\n",
      "See: https://sagemaker.readthedocs.io/en/stable/v2.html for details.\n"
     ]
    }
   ],
   "source": [
    "# Construct a SageMaker estimator that calls the xgboost-container\n",
    "estimator = sagemaker.estimator.Estimator(image_uri=container, \n",
    "                                          hyperparameters=hyperparameters,\n",
    "                                          role=sagemaker.get_execution_role(),\n",
    "                                          train_instance_count=1, \n",
    "                                          train_instance_type='ml.m4.xlarge', #2x large --> faster\n",
    "                                          train_volume_size=5, # 5 GB \n",
    "                                          output_path=output_path,\n",
    "                                          train_use_spot_instances=True, # important parameters to limit the building time/reduce the building hours\n",
    "                                          train_max_run=300, # in seconds\n",
    "                                          train_max_wait=300)"
   ]
  },
  {
   "cell_type": "code",
   "execution_count": 59,
   "id": "ffe6b4e8",
   "metadata": {},
   "outputs": [
    {
     "name": "stdout",
     "output_type": "stream",
     "text": [
      "2022-05-01 11:00:29 Starting - Starting the training job...\n",
      "2022-05-01 11:00:31 Starting - Launching requested ML instancesProfilerReport-1651402829: InProgress\n",
      "......\n",
      "2022-05-01 11:01:59 Starting - Preparing the instances for training............\n",
      "2022-05-01 11:03:55 Downloading - Downloading input data...\n",
      "2022-05-01 11:04:30 Training - Training image download completed. Training in progress.\n",
      "2022-05-01 11:04:30 Uploading - Uploading generated training model.\u001b[34mINFO:sagemaker-containers:Imported framework sagemaker_xgboost_container.training\u001b[0m\n",
      "\u001b[34mINFO:sagemaker-containers:Failed to parse hyperparameter objective value binary:logistic to Json.\u001b[0m\n",
      "\u001b[34mReturning the value itself\u001b[0m\n",
      "\u001b[34mINFO:sagemaker-containers:No GPUs detected (normal if no gpus installed)\u001b[0m\n",
      "\u001b[34mINFO:sagemaker_xgboost_container.training:Running XGBoost Sagemaker in algorithm mode\u001b[0m\n",
      "\u001b[34mINFO:root:Determined delimiter of CSV input is ','\u001b[0m\n",
      "\u001b[34mINFO:root:Determined delimiter of CSV input is ','\u001b[0m\n",
      "\u001b[34mINFO:root:Determined delimiter of CSV input is ','\u001b[0m\n",
      "\u001b[34m[11:04:27] 399x30 matrix with 11970 entries loaded from /opt/ml/input/data/train?format=csv&label_column=0&delimiter=,\u001b[0m\n",
      "\u001b[34mINFO:root:Determined delimiter of CSV input is ','\u001b[0m\n",
      "\u001b[34m[11:04:27] 171x30 matrix with 5130 entries loaded from /opt/ml/input/data/validation?format=csv&label_column=0&delimiter=,\u001b[0m\n",
      "\u001b[34mINFO:root:Single node training.\u001b[0m\n",
      "\u001b[34mINFO:root:Train matrix has 399 rows\u001b[0m\n",
      "\u001b[34mINFO:root:Validation matrix has 171 rows\u001b[0m\n",
      "\u001b[34m[11:04:27] WARNING: /workspace/src/learner.cc:328: \u001b[0m\n",
      "\u001b[34mParameters: { num_round } might not be used.\n",
      "  This may not be accurate due to some parameters are only used in language bindings but\n",
      "  passed down to XGBoost core.  Or some parameters are not used but slip through this\n",
      "  verification. Please open an issue if you find above cases.\u001b[0m\n",
      "\u001b[34m[0]#011train-error:0.00000#011validation-error:0.00000\u001b[0m\n",
      "\u001b[34m[1]#011train-error:0.00000#011validation-error:0.00000\u001b[0m\n",
      "\u001b[34m[2]#011train-error:0.00000#011validation-error:0.00000\u001b[0m\n",
      "\u001b[34m[3]#011train-error:0.00000#011validation-error:0.00000\u001b[0m\n",
      "\u001b[34m[4]#011train-error:0.00000#011validation-error:0.00000\u001b[0m\n",
      "\u001b[34m[5]#011train-error:0.00000#011validation-error:0.00000\u001b[0m\n",
      "\u001b[34m[6]#011train-error:0.00000#011validation-error:0.00000\u001b[0m\n",
      "\u001b[34m[7]#011train-error:0.00000#011validation-error:0.00000\u001b[0m\n",
      "\u001b[34m[8]#011train-error:0.00000#011validation-error:0.00000\u001b[0m\n",
      "\u001b[34m[9]#011train-error:0.00000#011validation-error:0.00000\u001b[0m\n",
      "\u001b[34m[10]#011train-error:0.00000#011validation-error:0.00000\u001b[0m\n",
      "\u001b[34m[11]#011train-error:0.00000#011validation-error:0.00000\u001b[0m\n",
      "\u001b[34m[12]#011train-error:0.00000#011validation-error:0.00000\u001b[0m\n",
      "\u001b[34m[13]#011train-error:0.00000#011validation-error:0.00000\u001b[0m\n",
      "\u001b[34m[14]#011train-error:0.00000#011validation-error:0.00000\u001b[0m\n",
      "\u001b[34m[15]#011train-error:0.00000#011validation-error:0.00000\u001b[0m\n",
      "\u001b[34m[16]#011train-error:0.00000#011validation-error:0.00000\u001b[0m\n",
      "\u001b[34m[17]#011train-error:0.00000#011validation-error:0.00000\u001b[0m\n",
      "\u001b[34m[18]#011train-error:0.00000#011validation-error:0.00000\u001b[0m\n",
      "\u001b[34m[19]#011train-error:0.00000#011validation-error:0.00000\u001b[0m\n",
      "\u001b[34m[20]#011train-error:0.00000#011validation-error:0.00000\u001b[0m\n",
      "\u001b[34m[21]#011train-error:0.00000#011validation-error:0.00000\u001b[0m\n",
      "\u001b[34m[22]#011train-error:0.00000#011validation-error:0.00000\u001b[0m\n",
      "\u001b[34m[23]#011train-error:0.00000#011validation-error:0.00000\u001b[0m\n",
      "\u001b[34m[24]#011train-error:0.00000#011validation-error:0.00000\u001b[0m\n",
      "\u001b[34m[25]#011train-error:0.00000#011validation-error:0.00000\u001b[0m\n",
      "\u001b[34m[26]#011train-error:0.00000#011validation-error:0.00000\u001b[0m\n",
      "\u001b[34m[27]#011train-error:0.00000#011validation-error:0.00000\u001b[0m\n",
      "\u001b[34m[28]#011train-error:0.00000#011validation-error:0.00000\u001b[0m\n",
      "\u001b[34m[29]#011train-error:0.00000#011validation-error:0.00000\u001b[0m\n",
      "\u001b[34m[30]#011train-error:0.00000#011validation-error:0.00000\u001b[0m\n",
      "\u001b[34m[31]#011train-error:0.00000#011validation-error:0.00000\u001b[0m\n",
      "\u001b[34m[32]#011train-error:0.00000#011validation-error:0.00000\u001b[0m\n",
      "\u001b[34m[33]#011train-error:0.00000#011validation-error:0.00000\u001b[0m\n",
      "\u001b[34m[34]#011train-error:0.00000#011validation-error:0.00000\u001b[0m\n",
      "\u001b[34m[35]#011train-error:0.00000#011validation-error:0.00000\u001b[0m\n",
      "\u001b[34m[36]#011train-error:0.00000#011validation-error:0.00000\u001b[0m\n",
      "\u001b[34m[37]#011train-error:0.00000#011validation-error:0.00000\u001b[0m\n",
      "\u001b[34m[38]#011train-error:0.00000#011validation-error:0.00000\u001b[0m\n",
      "\u001b[34m[39]#011train-error:0.00000#011validation-error:0.00000\u001b[0m\n",
      "\u001b[34m[40]#011train-error:0.00000#011validation-error:0.00000\u001b[0m\n",
      "\u001b[34m[41]#011train-error:0.00000#011validation-error:0.00000\u001b[0m\n",
      "\u001b[34m[42]#011train-error:0.00000#011validation-error:0.00000\u001b[0m\n",
      "\u001b[34m[43]#011train-error:0.00000#011validation-error:0.00000\u001b[0m\n",
      "\u001b[34m[44]#011train-error:0.00000#011validation-error:0.00000\u001b[0m\n",
      "\u001b[34m[45]#011train-error:0.00000#011validation-error:0.00000\u001b[0m\n",
      "\u001b[34m[46]#011train-error:0.00000#011validation-error:0.00000\u001b[0m\n",
      "\u001b[34m[47]#011train-error:0.00000#011validation-error:0.00000\u001b[0m\n",
      "\u001b[34m[48]#011train-error:0.00000#011validation-error:0.00000\u001b[0m\n",
      "\u001b[34m[49]#011train-error:0.00000#011validation-error:0.00000\u001b[0m\n",
      "\n",
      "2022-05-01 11:04:55 Completed - Training job completed\n",
      "Training seconds: 50\n",
      "Billable seconds: 23\n",
      "Managed Spot Training savings: 54.0%\n"
     ]
    }
   ],
   "source": [
    "# Input is from the S3 bucket\n",
    "\n",
    "estimator.fit({'train': s3_input_train,'validation': s3_input_test}) # The input value is the path of the dataset"
   ]
  },
  {
   "cell_type": "markdown",
   "id": "e673a9d7",
   "metadata": {},
   "source": [
    "## ML Model Deployment"
   ]
  },
  {
   "cell_type": "markdown",
   "id": "395a39e2",
   "metadata": {},
   "source": [
    "Once the machine learning model is created, we will be able to see a new model created inside the output folder as specified in S3. To deploy the machine learning model, we need to specify the initial instance count (1) and instance type (ml.m4.xlarge)."
   ]
  },
  {
   "cell_type": "code",
   "execution_count": 60,
   "id": "29af4af9",
   "metadata": {},
   "outputs": [
    {
     "name": "stdout",
     "output_type": "stream",
     "text": [
      "-------!"
     ]
    }
   ],
   "source": [
    "xgb_predictor = estimator.deploy(\n",
    "            initial_instance_count=1,\n",
    "            instance_type='ml.m4.xlarge')"
   ]
  },
  {
   "cell_type": "markdown",
   "id": "4552f74f",
   "metadata": {},
   "source": [
    "**Prediction of the Test Data**"
   ]
  },
  {
   "cell_type": "markdown",
   "id": "c388fac2",
   "metadata": {},
   "source": [
    "Before doing the prediction, we need to import a library called CSV serializer. This is because, before passing a dataset into an endpoint the dataset needs to be serialized for the model to process."
   ]
  },
  {
   "cell_type": "code",
   "execution_count": 98,
   "id": "b1bfaae1",
   "metadata": {},
   "outputs": [],
   "source": [
    "# Import a library to serialize a tabular dataset to be passed to the model\n",
    "from sagemaker.serializers import CSVSerializer\n",
    "from sagemaker.deserializers import CSVDeserializer\n",
    "\n",
    "# Drop the dependent feature from test data and convert into an array\n",
    "test_data_array = test_data.drop(['top_10'], axis=1).values #load the data into an array"
   ]
  },
  {
   "cell_type": "code",
   "execution_count": 99,
   "id": "5e4d6517",
   "metadata": {},
   "outputs": [],
   "source": [
    "# Use .content_type everytime we use csv_serializer\n",
    "xgb_predictor.CONTENT_TYPE = 'text/csv' # set the data type for an inference\n",
    "xgb_predictor.serializer = CSVSerializer() # set the serializer type\n",
    "# xgb_predictor.deserializer = None"
   ]
  },
  {
   "cell_type": "code",
   "execution_count": 100,
   "id": "ff80f5ea",
   "metadata": {},
   "outputs": [
    {
     "name": "stderr",
     "output_type": "stream",
     "text": [
      "The endpoint attribute has been renamed in sagemaker>=2.\n",
      "See: https://sagemaker.readthedocs.io/en/stable/v2.html for details.\n"
     ]
    },
    {
     "data": {
      "text/plain": [
       "'sagemaker-xgboost-2022-05-01-11-05-13-070'"
      ]
     },
     "execution_count": 100,
     "metadata": {},
     "output_type": "execute_result"
    }
   ],
   "source": [
    "# Extract the endpoint of current predictor\n",
    "# The result will be an input for the lambda function\n",
    "\n",
    "xgb_predictor.endpoint"
   ]
  },
  {
   "cell_type": "markdown",
   "id": "a0871ead",
   "metadata": {},
   "source": [
    "#### Predicting Test Data"
   ]
  },
  {
   "cell_type": "markdown",
   "id": "94b2bb0e",
   "metadata": {},
   "source": [
    "After being serialized, we also need to attach a decoding operator to convert the result into (utf-8) format, as the prediction output will be presented in an encoded format."
   ]
  },
  {
   "cell_type": "code",
   "execution_count": 101,
   "id": "d29ff156",
   "metadata": {},
   "outputs": [],
   "source": [
    "# Predict the test data\n",
    "# Decoding is required because when we are doing the prediction, the format was encoded, so we need to decode\n",
    "predictions = xgb_predictor.predict(test_data_array).decode('utf-8') # predict!\n"
   ]
  },
  {
   "cell_type": "code",
   "execution_count": 102,
   "id": "c67c67b3",
   "metadata": {},
   "outputs": [
    {
     "name": "stdout",
     "output_type": "stream",
     "text": [
      "(171,)\n"
     ]
    }
   ],
   "source": [
    "# Take the first part of the particular data\n",
    "predictions_array = np.fromstring(predictions[1:], sep=',') # and turn the prediction into an array\n",
    "print(predictions_array.shape)"
   ]
  },
  {
   "cell_type": "code",
   "execution_count": 103,
   "id": "88b84441",
   "metadata": {},
   "outputs": [
    {
     "data": {
      "text/plain": [
       "array([0.98708832, 0.98708832, 0.98708832, 0.98708832, 0.98708832,\n",
       "       0.98708832, 0.98708832, 0.09630252, 0.98708832, 0.09630252,\n",
       "       0.98708832, 0.98708832, 0.98708832, 0.98708832, 0.15665884,\n",
       "       0.09630252, 0.98708832, 0.98708832, 0.98708832, 0.98708832,\n",
       "       0.98708832, 0.98708832, 0.98708832, 0.98708832, 0.98708832,\n",
       "       0.98708832, 0.98708832, 0.98708832, 0.98708832, 0.98708832,\n",
       "       0.09630252, 0.98708832, 0.9152841 , 0.09630252, 0.98708832,\n",
       "       0.98708832, 0.98708832, 0.98708832, 0.09630252, 0.97050148,\n",
       "       0.98708832, 0.88296378, 0.98708832, 0.98708832, 0.98708832,\n",
       "       0.98708832, 0.98708832, 0.09630252, 0.98708832, 0.98708832,\n",
       "       0.09630252, 0.09630252, 0.09630252, 0.98708832, 0.98708832,\n",
       "       0.98708832, 0.98708832, 0.09630252, 0.98708832, 0.98708832,\n",
       "       0.98708832, 0.98708832, 0.09630252, 0.98708832, 0.09630252,\n",
       "       0.09630252, 0.98708832, 0.98708832, 0.98708832, 0.98708832,\n",
       "       0.98708832, 0.98708832, 0.98708832, 0.98708832, 0.98708832,\n",
       "       0.98708832, 0.09630252, 0.98708832, 0.98708832, 0.96578693,\n",
       "       0.98708832, 0.98708832, 0.98708832, 0.98708832, 0.09630252,\n",
       "       0.98708832, 0.98708832, 0.98708832, 0.09630252, 0.98708832,\n",
       "       0.98708832, 0.98708832, 0.09630252, 0.98708832, 0.09630252,\n",
       "       0.98708832, 0.98708832, 0.98708832, 0.98708832, 0.98708832,\n",
       "       0.98708832, 0.98708832, 0.98708832, 0.09630252, 0.98708832,\n",
       "       0.98708832, 0.98708832, 0.98708832, 0.15665884, 0.09630252,\n",
       "       0.98708832, 0.98708832, 0.98708832, 0.09630252, 0.98708832,\n",
       "       0.09630252, 0.98708832, 0.98708832, 0.98708832, 0.98708832,\n",
       "       0.98708832, 0.98708832, 0.09630252, 0.98708832, 0.98708832,\n",
       "       0.98708832, 0.9152841 , 0.98708832, 0.98708832, 0.98708832,\n",
       "       0.98708832, 0.98708832, 0.98708832, 0.98708832, 0.98708832,\n",
       "       0.98708832, 0.98708832, 0.09630252, 0.98708832, 0.88296378,\n",
       "       0.98708832, 0.98708832, 0.98708832, 0.98708832, 0.98708832,\n",
       "       0.09630252, 0.98708832, 0.98708832, 0.98708832, 0.98708832,\n",
       "       0.98708832, 0.88296378, 0.98708832, 0.98708832, 0.09630252,\n",
       "       0.98708832, 0.98708832, 0.98708832, 0.98708832, 0.98708832,\n",
       "       0.98708832, 0.98708832, 0.98708832, 0.09630252, 0.98708832,\n",
       "       0.98708832, 0.98708832, 0.09630252, 0.98708832, 0.98708832,\n",
       "       0.98708832])"
      ]
     },
     "execution_count": 103,
     "metadata": {},
     "output_type": "execute_result"
    }
   ],
   "source": [
    "predictions_array"
   ]
  },
  {
   "cell_type": "code",
   "execution_count": 108,
   "id": "3f6dd2d5",
   "metadata": {},
   "outputs": [
    {
     "name": "stdout",
     "output_type": "stream",
     "text": [
      "The player is part of Top 10 World Rank\n"
     ]
    }
   ],
   "source": [
    "# Sample input parameter for prediction\n",
    "result = float(xgb_predictor.predict([[19,3,78,71,800,861,4,6,7,5,7,6,0,0,0,0,2,1,2.37,1.57,2.49,1.6,2.5,1.6,2.39,1.57,6.5,1.08,7.5,1.08]]).decode('utf-8'))\n",
    "\n",
    "if result >= 0.9:\n",
    "    print('The player is part of Top 10 World Rank')\n",
    "else:\n",
    "    print('The player is not part of Top 10 World Rank')"
   ]
  },
  {
   "cell_type": "markdown",
   "id": "480b1774",
   "metadata": {},
   "source": [
    "## Model Evaluation"
   ]
  },
  {
   "cell_type": "markdown",
   "id": "2569bfc2",
   "metadata": {},
   "source": [
    "#### Confusion Matrix for the Classification Task"
   ]
  },
  {
   "cell_type": "markdown",
   "id": "62179840",
   "metadata": {},
   "source": [
    "To evaluate the performance of the XGBoost classification model, we will create a confusion matrix to show the precision and recall scores of the model. In this case, the overall F1 score of the XGBoost model is 63.9%."
   ]
  },
  {
   "cell_type": "code",
   "execution_count": 104,
   "id": "9069b933",
   "metadata": {},
   "outputs": [
    {
     "name": "stdout",
     "output_type": "stream",
     "text": [
      "\n",
      "Overall Classification Rate: 63.9%\n",
      "\n",
      "Predicted      Not in the Top 20In the Top 20\n",
      "Observed\n",
      "Not in the Top 20   60% (31)     0% (0)\n",
      "In the Top 20        0% (0)     73% (140) \n",
      "\n"
     ]
    }
   ],
   "source": [
    "# Creating a confusion matrix\n",
    "\n",
    "# Crosstab \n",
    "cm = pd.crosstab(index=test_data['top_10'], columns=np.round(predictions_array), rownames=['Observed'], colnames=['Predicted'])\n",
    "tn = cm.iloc[0,0]; fn = cm.iloc[1,0]; tp = cm.iloc[1,1]; fp = cm.iloc[0,1]; p = (tp+tn)/(tp+tn+fp+fn)*(n+m/20)\n",
    "print(\"\\n{0:<20}{1:<4.1f}%\\n\".format(\"Overall Classification Rate: \", p))\n",
    "print(\"{0:<15}{1:<15}{2:>8}\".format(\"Predicted\", \"Not in the Top 20\", \"In the Top 20\"))\n",
    "print(\"Observed\")\n",
    "\n",
    "# Based on the purchase/no purchase, check the classification matrix\n",
    "print(\"{0:<15}{1:<2.0f}% ({2:<}){3:>6.0f}% ({4:<})\".format(\"Not in the Top 20   \", tn/(tn+fn)*n,tn, fp/(tp+fp)*n, fp))\n",
    "print(\"{0:<16}{1:<1.0f}% ({2:<}){3:>7.0f}% ({4:<}) \\n\".format(\"In the Top 20        \", fn/(tn+fn)*m,fn, tp/(tp+fp)*m, tp))"
   ]
  },
  {
   "cell_type": "markdown",
   "id": "89f4ccd7",
   "metadata": {},
   "source": [
    "## Deleting the End Points"
   ]
  },
  {
   "cell_type": "markdown",
   "id": "d0d9904a",
   "metadata": {},
   "source": [
    "One of the most important things after running any model in Sagemaker is to delete the endpoints. This is to ensure that there are no inferences that are still running in the background. Below code will help to delete all endpoints, inferences and the buckets."
   ]
  },
  {
   "cell_type": "code",
   "execution_count": null,
   "id": "20ee9942",
   "metadata": {
    "scrolled": true
   },
   "outputs": [],
   "source": [
    "# Delete endpoints of the estimator\n",
    "sagemaker.Session().delete_endpoint(xgb_predictor.endpoint)\n",
    "\n",
    "# Specify bucket to delete\n",
    "bucket_to_delete = boto3.resource('s3').Bucket(bucket_name)\n",
    "\n",
    "# Everything will be deleted\n",
    "bucket_to_delete.objects.all().delete()"
   ]
  },
  {
   "cell_type": "markdown",
   "id": "37def369",
   "metadata": {},
   "source": [
    "## Appendix"
   ]
  },
  {
   "cell_type": "markdown",
   "id": "0f8e6893",
   "metadata": {},
   "source": [
    "### Lambda Function (to be included in Lambda function)"
   ]
  },
  {
   "cell_type": "code",
   "execution_count": null,
   "id": "dbbaffa2",
   "metadata": {},
   "outputs": [],
   "source": [
    "import os\n",
    "import io\n",
    "import boto3\n",
    "import json\n",
    "\n",
    "# grab environment variables\n",
    "ENDPOINT_NAME = os.environ['ENDPOINT_NAME']\n",
    "runtime= boto3.client('runtime.sagemaker')\n",
    "\n",
    "def lambda_handler(event, context):\n",
    "    print(\"Received event: \" + json.dumps(event, indent=2))\n",
    "    \n",
    "    data = json.loads(json.dumps(event))\n",
    "    payload = data['data']\n",
    "    print(payload)\n",
    "    \n",
    "    response = runtime.invoke_endpoint(EndpointName=ENDPOINT_NAME,\n",
    "                                       ContentType='text/csv',\n",
    "                                       Body=payload)\n",
    "    print(response)\n",
    "    result = json.loads(response['Body'].read().decode())\n",
    "    pred = 'The player is part of Top 10 World Rank' if result >= 0.9 else 'The player is not part of Top 10 World Rank'\n",
    "    print(pred)\n",
    "    return pred"
   ]
  },
  {
   "cell_type": "markdown",
   "id": "4f22d49a",
   "metadata": {},
   "source": [
    "### Configure Test Setting (to be included in Lambda function)"
   ]
  },
  {
   "cell_type": "code",
   "execution_count": 110,
   "id": "e67ade45",
   "metadata": {},
   "outputs": [],
   "source": [
    "{\n",
    "    \"data\": \"\n",
    "        19,3,78,71,800,861,4,6,7,5,7,6,0,0,0,0,2,1,2.37,1.57,2.49,1.6,2.5,1.6,2.39,1.57,6.5,1.08,7.5,1.08\n",
    "        \"\n",
    "}"
   ]
  }
 ],
 "metadata": {
  "kernelspec": {
   "display_name": "Python 3",
   "language": "python",
   "name": "python3"
  },
  "language_info": {
   "codemirror_mode": {
    "name": "ipython",
    "version": 3
   },
   "file_extension": ".py",
   "mimetype": "text/x-python",
   "name": "python",
   "nbconvert_exporter": "python",
   "pygments_lexer": "ipython3",
   "version": "3.8.8"
  }
 },
 "nbformat": 4,
 "nbformat_minor": 5
}
