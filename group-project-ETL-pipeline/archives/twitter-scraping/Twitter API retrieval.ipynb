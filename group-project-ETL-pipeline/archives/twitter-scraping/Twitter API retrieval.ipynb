{
 "cells": [
  {
   "cell_type": "markdown",
   "metadata": {
    "slideshow": {
     "slide_type": "slide"
    }
   },
   "source": [
    "<h1>\n",
    "    <br style =\"color:#EA7600\"> UCL </br> \n",
    "    </p>\n",
    "</h1>\n",
    "\n",
    "<div>\n",
    "\n",
    "  <h4>\n",
    "      <p style=\"font-size:18pt\">MSIN0166 Data Engineering</p>\n",
    "      <p style=\"font-size:18pt\">Introduction to APIs</p>\n",
    "  </h4>\n",
    "\n",
    "</div>"
   ]
  },
  {
   "cell_type": "code",
   "execution_count": 1,
   "metadata": {
    "scrolled": true
   },
   "outputs": [
    {
     "name": "stdout",
     "output_type": "stream",
     "text": [
      "\u001b[1m\n",
      "         .:::.     .::.       \n",
      "        ....yy:    .yy.       \n",
      "        :.  .yy.    y.        \n",
      "             :y:   .:         \n",
      "             .yy  .:          \n",
      "              yy..:           \n",
      "              :y:.            \n",
      "              .y.             \n",
      "             .:.              \n",
      "        ....:.                \n",
      "        :::.                  \n",
      "\u001b[0;33m\n",
      "• Project files and data should be stored in /project. This is shared among everyone\n",
      "  in the project.\n",
      "• Personal files and configuration should be stored in /home/faculty.\n",
      "• Files outside /project and /home/faculty will be lost when this server is terminated.\n",
      "• Create custom environments to setup your servers reproducibly.\n",
      "\u001b[0m\n",
      "Requirement already satisfied: python-dotenv in /opt/anaconda/envs/Python3/lib/python3.8/site-packages (0.19.2)\n"
     ]
    }
   ],
   "source": [
    "!pip install python-dotenv;"
   ]
  },
  {
   "cell_type": "markdown",
   "metadata": {},
   "source": [
    "### Saving an Environment Variable"
   ]
  },
  {
   "cell_type": "code",
   "execution_count": 2,
   "metadata": {},
   "outputs": [],
   "source": [
    "import requests\n",
    "import os\n",
    "import json\n",
    "from dotenv import load_dotenv\n",
    "\n",
    "load_dotenv() # take environment variable from .env\n",
    "\n",
    "# To set your enviornment variables in your terminal run the following line:\n",
    "bearer_token = os.getenv(\"API_KEY\")"
   ]
  },
  {
   "cell_type": "code",
   "execution_count": 3,
   "metadata": {},
   "outputs": [],
   "source": [
    "# Source: Twitter dev github\n",
    "# https://github.com/twitterdev/Twitter-API-v2-sample-code/blob/main/Filtered-Stream/filtered_stream.py\n",
    "\n",
    "def bearer_oauth(r):\n",
    "    \"\"\"\n",
    "    Method required by bearer token authentication.\n",
    "    \"\"\"\n",
    "\n",
    "    r.headers[\"Authorization\"] = f\"Bearer {bearer_token}\"\n",
    "    r.headers[\"User-Agent\"] = \"v2FilteredStreamPython\"\n",
    "    return r\n",
    "\n",
    "\n",
    "def get_rules():\n",
    "    response = requests.get(\n",
    "        \"https://api.twitter.com/2/tweets/search/stream/rules\", auth=bearer_oauth\n",
    "    )\n",
    "    if response.status_code != 200:\n",
    "        raise Exception(\n",
    "            \"Cannot get rules (HTTP {}): {}\".format(response.status_code, response.text)\n",
    "        )\n",
    "    #print(json.dumps(response.json()))\n",
    "    return response.json()\n",
    "\n",
    "\n",
    "def delete_all_rules(rules):\n",
    "    if rules is None or \"data\" not in rules:\n",
    "        return None\n",
    "\n",
    "    ids = list(map(lambda rule: rule[\"id\"], rules[\"data\"]))\n",
    "    payload = {\"delete\": {\"ids\": ids}}\n",
    "    response = requests.post(\n",
    "        \"https://api.twitter.com/2/tweets/search/stream/rules\",\n",
    "        auth=bearer_oauth,\n",
    "        json=payload\n",
    "    )\n",
    "    if response.status_code != 200:\n",
    "        raise Exception(\n",
    "            \"Cannot delete rules (HTTP {}): {}\".format(\n",
    "                response.status_code, response.text\n",
    "            )\n",
    "        )"
   ]
  },
  {
   "cell_type": "markdown",
   "metadata": {},
   "source": [
    "### Update Rules"
   ]
  },
  {
   "cell_type": "code",
   "execution_count": 4,
   "metadata": {},
   "outputs": [],
   "source": [
    "get_rules();"
   ]
  },
  {
   "cell_type": "code",
   "execution_count": 5,
   "metadata": {},
   "outputs": [],
   "source": [
    "delete_all_rules(get_rules());"
   ]
  },
  {
   "cell_type": "code",
   "execution_count": 6,
   "metadata": {},
   "outputs": [
    {
     "data": {
      "text/plain": [
       "{'meta': {'sent': '2022-03-22T19:47:02.327Z', 'result_count': 0}}"
      ]
     },
     "execution_count": 6,
     "metadata": {},
     "output_type": "execute_result"
    }
   ],
   "source": [
    "get_rules()"
   ]
  },
  {
   "cell_type": "code",
   "execution_count": 7,
   "metadata": {},
   "outputs": [],
   "source": [
    "import requests\n",
    "import json\n",
    "\n",
    "# Lets define a function to pass the headers with our bearer_token\n",
    "def create_headers(bearer_token):\n",
    "    headers = {\"Authorization\": \"Bearer {}\".format(bearer_token)}\n",
    "    return headers"
   ]
  },
  {
   "cell_type": "code",
   "execution_count": 8,
   "metadata": {},
   "outputs": [],
   "source": [
    "import requests\n",
    "import json\n",
    "\n",
    "# Let's define another function to set the rules to filter the live stream of tweets\n",
    "def set_rules(headers, sample_rules):\n",
    "    # You can adjust the rules if needed\n",
    "    payload = {\"add\": sample_rules}\n",
    "    response = requests.post(\n",
    "        \"https://api.twitter.com/2/tweets/search/stream/rules\",\n",
    "        headers=headers,\n",
    "        json=payload,\n",
    "    )\n",
    "    if response.status_code != 201:\n",
    "        raise Exception(\n",
    "            \"Cannot add rules (HTTP {}): {}\".format(response.status_code, response.text)\n",
    "        )\n",
    "    #print(json.dumps(response.json()))"
   ]
  },
  {
   "cell_type": "code",
   "execution_count": 9,
   "metadata": {},
   "outputs": [],
   "source": [
    "import requests\n",
    "import json\n",
    "\n",
    "# Let's set the code to get the stream of tweets\n",
    "def get_stream(headers, max_number_tweets):\n",
    "    response = requests.get(\n",
    "        \"https://api.twitter.com/2/tweets/search/stream\", headers=headers, stream=True,\n",
    "    )\n",
    "    #print(response.status_code)\n",
    "    if response.status_code != 200:\n",
    "        raise Exception(\n",
    "            \"Cannot get stream (HTTP {}): {}\".format(\n",
    "                response.status_code, response.text\n",
    "            )\n",
    "        )\n",
    "    counter_tweets = 0\n",
    "    stream_tweets = {'stream_tweets':[]}\n",
    "\n",
    "    for response_line in response.iter_lines():\n",
    "        if response_line:\n",
    "            json_response = json.loads(response_line)\n",
    "            stream_tweets[\"stream_tweets\"].append(json_response)\n",
    "\n",
    "            #print(json.dumps(json_response, indent=4, sort_keys=True))\n",
    "            counter_tweets += 1\n",
    "\n",
    "            if counter_tweets >= max_number_tweets:\n",
    "                with open(\"atp_tweets_final.json\", 'a') as f:\n",
    "                    json.dump(stream_tweets, f, indent=4)\n",
    "\n",
    "                # Close the stream of tweets\n",
    "                response.close()\n",
    "                \n",
    "                # Break the loop\n",
    "                break"
   ]
  },
  {
   "cell_type": "markdown",
   "metadata": {},
   "source": [
    "### Scraping using Twitter API"
   ]
  },
  {
   "cell_type": "code",
   "execution_count": 10,
   "metadata": {
    "scrolled": false,
    "slideshow": {
     "slide_type": "slide"
    }
   },
   "outputs": [],
   "source": [
    "import time\n",
    "start = time.time()\n",
    "#print(\"hello\")\n",
    "\n",
    "# Create the headers for the HTTP request\n",
    "headers = create_headers(bearer_token)\n",
    "\n",
    "# Set the rules for the filtering of tweets that mention the Indian Wells tournament\n",
    "# Filtering the time of the tournament and the top 5 players from singles and double each\n",
    "\n",
    "sample_rules = [\n",
    "    {\"value\": \"BNPPARIBASOPEN lang:en -is:retweet\", \"activity_start_time\": \"2022-03-07T00:00:00Z\", \"activity_end_time\": \"2022-03-20T23:59:59Z\"}, # tournament name\n",
    "    {\"value\": \"IndianWells lang:en -is:retweet\",\"activity_start_time\": \"2022-03-07T00:00:00Z\", \"activity_end_time\": \"2022-03-20T23:59:59Z\"},\n",
    "    {\"value\": \"BNPP022 lang:en -is:retweet\",\"activity_start_time\": \"2022-03-07T00:00:00Z\", \"activity_end_time\": \"2022-03-20T23:59:59Z\"},\n",
    "    {\"value\": \"Daniil Medvedev lang:en -is:retweet\",\"activity_start_time\": \"2022-03-07T00:00:00Z\", \"activity_end_time\": \"2022-03-20T23:59:59Z\"}, # Top 5 single player name\n",
    "    {\"value\": \"Novak Djokovic lang:en -is:retweet\",\"activity_start_time\": \"2022-03-07T00:00:00Z\", \"activity_end_time\": \"2022-03-20T23:59:59Z\"},\n",
    "    {\"value\": \"Alexander Zverev lang:en -is:retweet\",\"activity_start_time\": \"2022-03-07T00:00:00Z\", \"activity_end_time\": \"2022-03-20T23:59:59Z\"},\n",
    "    {\"value\": \"Rafael Nadal lang:en -is:retweet\",\"activity_start_time\": \"2022-03-07T00:00:00Z\", \"activity_end_time\": \"2022-03-20T23:59:59Z\"},\n",
    "    {\"value\": \"Stefanos Tsitsipas lang:en -is:retweet\",\"activity_start_time\": \"2022-03-07T00:00:00Z\", \"activity_end_time\": \"2022-03-20T23:59:59Z\"},\n",
    "    {\"value\": \"Mate Pavic lang:en -is:retweet\",\"activity_start_time\": \"2022-03-07T00:00:00Z\", \"activity_end_time\": \"2022-03-20T23:59:59Z\"}, # Top 5 double player name\n",
    "    {\"value\": \"Nikola Mektic lang:en -is:retweet\",\"activity_start_time\": \"2022-03-07T00:00:00Z\", \"activity_end_time\": \"2022-03-20T23:59:59Z\"},\n",
    "    {\"value\": \"Joe Salisbury lang:en -is:retweet\",\"activity_start_time\": \"2022-03-07T00:00:00Z\", \"activity_end_time\": \"2022-03-20T23:59:59Z\"},\n",
    "    {\"value\": \"Rajeev Ram lang:en -is:retweet\",\"activity_start_time\": \"2022-03-07T00:00:00Z\", \"activity_end_time\": \"2022-03-20T23:59:59Z\"},\n",
    "    {\"value\": \"Horacio Zeballos lang:en -is:retweet\",\"activity_start_time\": \"2022-03-07T00:00:00Z\", \"activity_end_time\": \"2022-03-20T23:59:59Z\"},\n",
    "]\n",
    "\n",
    "#@BNPPARIBASOPEN #IndianWells #BNPPO22\n",
    "\n",
    "set_rules_add = set_rules(headers, sample_rules)\n",
    "\n",
    "# Get the stream of tweets live\n",
    "max_number_tweets = 10\n",
    "get_stream(headers, max_number_tweets)\n"
   ]
  },
  {
   "cell_type": "markdown",
   "metadata": {},
   "source": [
    "### Save it into a JSON file"
   ]
  },
  {
   "cell_type": "code",
   "execution_count": 11,
   "metadata": {},
   "outputs": [],
   "source": [
    "import json \n",
    "\n",
    "with open('atp_tweets_final.json') as json_file:\n",
    "    data = json.load(json_file)\n",
    "\n",
    "#print(data)"
   ]
  }
 ],
 "metadata": {
  "celltoolbar": "Slideshow",
  "kernelspec": {
   "display_name": "Python 3",
   "language": "python",
   "name": "python3"
  },
  "language_info": {
   "codemirror_mode": {
    "name": "ipython",
    "version": 3
   },
   "file_extension": ".py",
   "mimetype": "text/x-python",
   "name": "python",
   "nbconvert_exporter": "python",
   "pygments_lexer": "ipython3",
   "version": "3.8.2"
  }
 },
 "nbformat": 4,
 "nbformat_minor": 2
}
